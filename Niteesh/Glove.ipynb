{
 "cells": [
  {
   "cell_type": "markdown",
   "id": "a622478e",
   "metadata": {},
   "source": [
    "### Libraries"
   ]
  },
  {
   "cell_type": "code",
   "execution_count": 1,
   "id": "eca20c89",
   "metadata": {},
   "outputs": [],
   "source": [
    "import numpy as np\n",
    "import pandas as pd\n",
    "import seaborn as sns\n",
    "from sklearn.naive_bayes import MultinomialNB\n",
    "from sklearn.metrics import classification_report\n",
    "from sklearn.model_selection import train_test_split\n",
    "from sklearn.preprocessing import MinMaxScaler\n",
    "from sklearn.naive_bayes import MultinomialNB\n",
    "from sklearn.naive_bayes import BernoulliNB\n",
    "from sklearn.naive_bayes import GaussianNB\n",
    "from imblearn.over_sampling import SMOTE\n",
    "from sklearn.feature_extraction.text import CountVectorizer\n",
    "from sklearn.feature_extraction.text import TfidfVectorizer\n",
    "import warnings\n",
    "warnings.filterwarnings(\"ignore\")\n",
    "\n",
    "\n",
    "import spacy\n",
    "nlp = spacy.load(\"en_core_web_lg\")"
   ]
  },
  {
   "cell_type": "markdown",
   "id": "f2718427",
   "metadata": {},
   "source": [
    "### Checking the similarity between two words"
   ]
  },
  {
   "cell_type": "code",
   "execution_count": 2,
   "id": "0ca261cf",
   "metadata": {},
   "outputs": [
    {
     "name": "stdout",
     "output_type": "stream",
     "text": [
      "pen - girl = 0.11529760421080253\n",
      "boy - girl = 0.8607838386221719\n",
      "toothpaste - girl = 0.1532412669253498\n",
      "cat - girl = 0.4544697286614181\n",
      "eye - girl = 0.22109918558775637\n"
     ]
    }
   ],
   "source": [
    "n = nlp(\"girl\")\n",
    "s = nlp(\"pen boy toothpaste cat eye\")\n",
    "for token in s:\n",
    "    print(f\"{token.text} - {n.text} = {token.similarity(n)}\")"
   ]
  },
  {
   "cell_type": "markdown",
   "id": "bd9836d0",
   "metadata": {},
   "source": [
    "#                                            Glove Using Spacy"
   ]
  },
  {
   "cell_type": "markdown",
   "id": "7d196531",
   "metadata": {},
   "source": [
    "### Reading the dataset"
   ]
  },
  {
   "cell_type": "code",
   "execution_count": 3,
   "id": "3fc31c4b",
   "metadata": {},
   "outputs": [
    {
     "data": {
      "text/html": [
       "<div>\n",
       "<style scoped>\n",
       "    .dataframe tbody tr th:only-of-type {\n",
       "        vertical-align: middle;\n",
       "    }\n",
       "\n",
       "    .dataframe tbody tr th {\n",
       "        vertical-align: top;\n",
       "    }\n",
       "\n",
       "    .dataframe thead th {\n",
       "        text-align: right;\n",
       "    }\n",
       "</style>\n",
       "<table border=\"1\" class=\"dataframe\">\n",
       "  <thead>\n",
       "    <tr style=\"text-align: right;\">\n",
       "      <th></th>\n",
       "      <th>Category</th>\n",
       "      <th>Message</th>\n",
       "    </tr>\n",
       "  </thead>\n",
       "  <tbody>\n",
       "    <tr>\n",
       "      <th>0</th>\n",
       "      <td>ham</td>\n",
       "      <td>Go until jurong point, crazy.. Available only ...</td>\n",
       "    </tr>\n",
       "    <tr>\n",
       "      <th>1</th>\n",
       "      <td>ham</td>\n",
       "      <td>Ok lar... Joking wif u oni...</td>\n",
       "    </tr>\n",
       "    <tr>\n",
       "      <th>2</th>\n",
       "      <td>spam</td>\n",
       "      <td>Free entry in 2 a wkly comp to win FA Cup fina...</td>\n",
       "    </tr>\n",
       "    <tr>\n",
       "      <th>3</th>\n",
       "      <td>ham</td>\n",
       "      <td>U dun say so early hor... U c already then say...</td>\n",
       "    </tr>\n",
       "    <tr>\n",
       "      <th>4</th>\n",
       "      <td>ham</td>\n",
       "      <td>Nah I don't think he goes to usf, he lives aro...</td>\n",
       "    </tr>\n",
       "    <tr>\n",
       "      <th>...</th>\n",
       "      <td>...</td>\n",
       "      <td>...</td>\n",
       "    </tr>\n",
       "    <tr>\n",
       "      <th>5567</th>\n",
       "      <td>spam</td>\n",
       "      <td>This is the 2nd time we have tried 2 contact u...</td>\n",
       "    </tr>\n",
       "    <tr>\n",
       "      <th>5568</th>\n",
       "      <td>ham</td>\n",
       "      <td>Will ü b going to esplanade fr home?</td>\n",
       "    </tr>\n",
       "    <tr>\n",
       "      <th>5569</th>\n",
       "      <td>ham</td>\n",
       "      <td>Pity, * was in mood for that. So...any other s...</td>\n",
       "    </tr>\n",
       "    <tr>\n",
       "      <th>5570</th>\n",
       "      <td>ham</td>\n",
       "      <td>The guy did some bitching but I acted like i'd...</td>\n",
       "    </tr>\n",
       "    <tr>\n",
       "      <th>5571</th>\n",
       "      <td>ham</td>\n",
       "      <td>Rofl. Its true to its name</td>\n",
       "    </tr>\n",
       "  </tbody>\n",
       "</table>\n",
       "<p>5572 rows × 2 columns</p>\n",
       "</div>"
      ],
      "text/plain": [
       "     Category                                            Message\n",
       "0         ham  Go until jurong point, crazy.. Available only ...\n",
       "1         ham                      Ok lar... Joking wif u oni...\n",
       "2        spam  Free entry in 2 a wkly comp to win FA Cup fina...\n",
       "3         ham  U dun say so early hor... U c already then say...\n",
       "4         ham  Nah I don't think he goes to usf, he lives aro...\n",
       "...       ...                                                ...\n",
       "5567     spam  This is the 2nd time we have tried 2 contact u...\n",
       "5568      ham               Will ü b going to esplanade fr home?\n",
       "5569      ham  Pity, * was in mood for that. So...any other s...\n",
       "5570      ham  The guy did some bitching but I acted like i'd...\n",
       "5571      ham                         Rofl. Its true to its name\n",
       "\n",
       "[5572 rows x 2 columns]"
      ]
     },
     "execution_count": 3,
     "metadata": {},
     "output_type": "execute_result"
    }
   ],
   "source": [
    "df = pd.read_csv(\"spam.csv\")\n",
    "df"
   ]
  },
  {
   "cell_type": "markdown",
   "id": "c4f6f18a",
   "metadata": {},
   "source": [
    "### Information of the dataset"
   ]
  },
  {
   "cell_type": "code",
   "execution_count": 4,
   "id": "fdebc8d6",
   "metadata": {},
   "outputs": [
    {
     "name": "stdout",
     "output_type": "stream",
     "text": [
      "<class 'pandas.core.frame.DataFrame'>\n",
      "RangeIndex: 5572 entries, 0 to 5571\n",
      "Data columns (total 2 columns):\n",
      " #   Column    Non-Null Count  Dtype \n",
      "---  ------    --------------  ----- \n",
      " 0   Category  5572 non-null   object\n",
      " 1   Message   5572 non-null   object\n",
      "dtypes: object(2)\n",
      "memory usage: 87.2+ KB\n"
     ]
    }
   ],
   "source": [
    "df.info()"
   ]
  },
  {
   "cell_type": "markdown",
   "id": "b6bb2a9b",
   "metadata": {},
   "source": [
    "### converting categorical records into vector"
   ]
  },
  {
   "cell_type": "code",
   "execution_count": 4,
   "id": "d539cd91",
   "metadata": {},
   "outputs": [
    {
     "name": "stdout",
     "output_type": "stream",
     "text": [
      "Wall time: 2min 22s\n"
     ]
    }
   ],
   "source": [
    "%%time\n",
    "df = pd.get_dummies(df,columns=[\"Category\"],drop_first=True)\n",
    "df[\"Message\"] = df[\"Message\"].apply(lambda x : nlp(x).vector)"
   ]
  },
  {
   "cell_type": "code",
   "execution_count": 5,
   "id": "91543bbe",
   "metadata": {},
   "outputs": [
    {
     "data": {
      "text/html": [
       "<div>\n",
       "<style scoped>\n",
       "    .dataframe tbody tr th:only-of-type {\n",
       "        vertical-align: middle;\n",
       "    }\n",
       "\n",
       "    .dataframe tbody tr th {\n",
       "        vertical-align: top;\n",
       "    }\n",
       "\n",
       "    .dataframe thead th {\n",
       "        text-align: right;\n",
       "    }\n",
       "</style>\n",
       "<table border=\"1\" class=\"dataframe\">\n",
       "  <thead>\n",
       "    <tr style=\"text-align: right;\">\n",
       "      <th></th>\n",
       "      <th>Message</th>\n",
       "      <th>Category_spam</th>\n",
       "    </tr>\n",
       "  </thead>\n",
       "  <tbody>\n",
       "    <tr>\n",
       "      <th>0</th>\n",
       "      <td>[0.8000099, 0.9535963, -0.34847602, -0.3791346...</td>\n",
       "      <td>0</td>\n",
       "    </tr>\n",
       "    <tr>\n",
       "      <th>1</th>\n",
       "      <td>[0.16232497, 0.8551012, -0.7290775, -0.6373049...</td>\n",
       "      <td>0</td>\n",
       "    </tr>\n",
       "    <tr>\n",
       "      <th>2</th>\n",
       "      <td>[-0.739487, 0.5289012, -0.13894223, -0.0169310...</td>\n",
       "      <td>1</td>\n",
       "    </tr>\n",
       "    <tr>\n",
       "      <th>3</th>\n",
       "      <td>[-1.8170546, 2.02302, 1.0373635, -1.0052722, 1...</td>\n",
       "      <td>0</td>\n",
       "    </tr>\n",
       "    <tr>\n",
       "      <th>4</th>\n",
       "      <td>[0.18221398, 4.2482843, -3.2048604, -1.1110712...</td>\n",
       "      <td>0</td>\n",
       "    </tr>\n",
       "    <tr>\n",
       "      <th>...</th>\n",
       "      <td>...</td>\n",
       "      <td>...</td>\n",
       "    </tr>\n",
       "    <tr>\n",
       "      <th>5567</th>\n",
       "      <td>[-1.1125491, -0.28742734, -1.3039072, 0.625423...</td>\n",
       "      <td>1</td>\n",
       "    </tr>\n",
       "    <tr>\n",
       "      <th>5568</th>\n",
       "      <td>[-1.3827443, 4.3848166, -2.7198246, -1.683979,...</td>\n",
       "      <td>0</td>\n",
       "    </tr>\n",
       "    <tr>\n",
       "      <th>5569</th>\n",
       "      <td>[-1.4874302, -0.14814456, -2.4567807, -1.36188...</td>\n",
       "      <td>0</td>\n",
       "    </tr>\n",
       "    <tr>\n",
       "      <th>5570</th>\n",
       "      <td>[-1.459938, 1.7489644, -2.9308975, -1.8730268,...</td>\n",
       "      <td>0</td>\n",
       "    </tr>\n",
       "    <tr>\n",
       "      <th>5571</th>\n",
       "      <td>[-1.105647, 3.4476943, -1.3477714, -2.1525986,...</td>\n",
       "      <td>0</td>\n",
       "    </tr>\n",
       "  </tbody>\n",
       "</table>\n",
       "<p>5572 rows × 2 columns</p>\n",
       "</div>"
      ],
      "text/plain": [
       "                                                Message  Category_spam\n",
       "0     [0.8000099, 0.9535963, -0.34847602, -0.3791346...              0\n",
       "1     [0.16232497, 0.8551012, -0.7290775, -0.6373049...              0\n",
       "2     [-0.739487, 0.5289012, -0.13894223, -0.0169310...              1\n",
       "3     [-1.8170546, 2.02302, 1.0373635, -1.0052722, 1...              0\n",
       "4     [0.18221398, 4.2482843, -3.2048604, -1.1110712...              0\n",
       "...                                                 ...            ...\n",
       "5567  [-1.1125491, -0.28742734, -1.3039072, 0.625423...              1\n",
       "5568  [-1.3827443, 4.3848166, -2.7198246, -1.683979,...              0\n",
       "5569  [-1.4874302, -0.14814456, -2.4567807, -1.36188...              0\n",
       "5570  [-1.459938, 1.7489644, -2.9308975, -1.8730268,...              0\n",
       "5571  [-1.105647, 3.4476943, -1.3477714, -2.1525986,...              0\n",
       "\n",
       "[5572 rows x 2 columns]"
      ]
     },
     "execution_count": 5,
     "metadata": {},
     "output_type": "execute_result"
    }
   ],
   "source": [
    "df"
   ]
  },
  {
   "cell_type": "markdown",
   "id": "a049e8e6",
   "metadata": {},
   "source": [
    "### setting an array element in 2D"
   ]
  },
  {
   "cell_type": "code",
   "execution_count": 6,
   "id": "bc5f06a5",
   "metadata": {},
   "outputs": [],
   "source": [
    "X = np.stack(df[\"Message\"])\n",
    "y = np.stack(df[\"Category_spam\"])"
   ]
  },
  {
   "cell_type": "markdown",
   "id": "eb615cb0",
   "metadata": {},
   "source": [
    "### Balancing the dataset"
   ]
  },
  {
   "cell_type": "code",
   "execution_count": 7,
   "id": "9fb4c9ce",
   "metadata": {},
   "outputs": [],
   "source": [
    "smote = SMOTE(sampling_strategy=\"minority\")\n",
    "X,y = smote.fit_resample(X,y)"
   ]
  },
  {
   "cell_type": "markdown",
   "id": "93dd20dd",
   "metadata": {},
   "source": [
    "### Spliting the dataset"
   ]
  },
  {
   "cell_type": "code",
   "execution_count": 8,
   "id": "1c32bd73",
   "metadata": {},
   "outputs": [],
   "source": [
    "X_train, X_test, y_train, y_test = train_test_split(\n",
    "    X,\n",
    "    y, \n",
    "    test_size=0.33, \n",
    "    random_state=42,stratify=y)"
   ]
  },
  {
   "cell_type": "markdown",
   "id": "88f14255",
   "metadata": {},
   "source": [
    "### Using MinMaxScaler negative values convert into positive value"
   ]
  },
  {
   "cell_type": "code",
   "execution_count": 9,
   "id": "28ceefcd",
   "metadata": {},
   "outputs": [],
   "source": [
    "scaler = MinMaxScaler()\n",
    "scaler_train = scaler.fit_transform(X_train)\n",
    "scaler_test = scaler.fit_transform(X_test)"
   ]
  },
  {
   "cell_type": "markdown",
   "id": "ed19009b",
   "metadata": {},
   "source": [
    "### Buliding a model using Navie Baye Multinomial"
   ]
  },
  {
   "cell_type": "code",
   "execution_count": 10,
   "id": "8be1342c",
   "metadata": {},
   "outputs": [
    {
     "name": "stdout",
     "output_type": "stream",
     "text": [
      "              precision    recall  f1-score   support\n",
      "\n",
      "           0       0.94      0.75      0.83      1593\n",
      "           1       0.79      0.95      0.86      1592\n",
      "\n",
      "    accuracy                           0.85      3185\n",
      "   macro avg       0.87      0.85      0.85      3185\n",
      "weighted avg       0.87      0.85      0.85      3185\n",
      "\n"
     ]
    }
   ],
   "source": [
    "clf = MultinomialNB()\n",
    "clf.fit(scaler_train,y_train)\n",
    "y_pred = clf.predict(scaler_test)\n",
    "print(classification_report(y_test,y_pred))"
   ]
  },
  {
   "cell_type": "markdown",
   "id": "e15c94ce",
   "metadata": {},
   "source": [
    "### Testing the Navie Baye model"
   ]
  },
  {
   "cell_type": "code",
   "execution_count": 28,
   "id": "8fc169d7",
   "metadata": {},
   "outputs": [
    {
     "data": {
      "text/plain": [
       "array([1, 0, 1])"
      ]
     },
     "execution_count": 28,
     "metadata": {},
     "output_type": "execute_result"
    }
   ],
   "source": [
    "l1 = [\"You got cash prize of 1000$, pls use the cash coupon code\",\n",
    "        'Niteesh pls come to ground, we can play cricket',\n",
    "        \"Hurry up! you got an offer of upto 20% discount for order delivery, exclusive offer just for you!!!, Don't miss the reward\",\n",
    "        'pls get me some food',\n",
    "        'Send me the code',\n",
    "        \"Free Prizes, Gift Cards or Coupons Free prizes are quite uncommon. If you get a text about free gifts, think twice before taking action! ..\"\n",
    "        \"ACTION REQUIRED. Please verify your Bank of America account information to avoid a hold on your account. Click here to verify: https://bit.ly/97qW5R8\",\n",
    "        \"You’ve been overcharged for your 2021 taxes. Get your IRS tax refund here: https://bit.lyPt808gF23\",\n",
    "        \"Get delivery updates on your USPS order NQ-836491 here: https://bit.ly/Po9808Lq\",\n",
    "        \"Congratulations! You’re being offered a no-interest Visa credit card. Click here to claim: https://bit.ly/07tjA786\",\n",
    "        \"There’s an issue with your payment information from your recent order YQ-885629. Take action now: https://bit.ly/Hp187Ty19\",\n",
    "        \"Wells Fargo: We have detected suspicious activity on your account. Log in at http://bit.ly/9Uy6Qw89 to update your account preferences and protect your information.\"]\n",
    "\n",
    "a = []\n",
    "for i in l1:\n",
    "    a.append(nlp(i).vector)\n",
    "clf.predict(a)"
   ]
  },
  {
   "cell_type": "markdown",
   "id": "b67c3207",
   "metadata": {},
   "source": [
    "### Buliding a model using KNN"
   ]
  },
  {
   "cell_type": "code",
   "execution_count": 30,
   "id": "82bfaff6",
   "metadata": {},
   "outputs": [
    {
     "name": "stdout",
     "output_type": "stream",
     "text": [
      "              precision    recall  f1-score   support\n",
      "\n",
      "           0       0.99      0.83      0.90      1593\n",
      "           1       0.85      1.00      0.92      1592\n",
      "\n",
      "    accuracy                           0.91      3185\n",
      "   macro avg       0.92      0.91      0.91      3185\n",
      "weighted avg       0.92      0.91      0.91      3185\n",
      "\n"
     ]
    },
    {
     "name": "stderr",
     "output_type": "stream",
     "text": [
      "C:\\ProgramData\\Anaconda3\\lib\\site-packages\\sklearn\\neighbors\\_classification.py:228: FutureWarning: Unlike other reduction functions (e.g. `skew`, `kurtosis`), the default behavior of `mode` typically preserves the axis it acts along. In SciPy 1.11.0, this behavior will change: the default value of `keepdims` will become False, the `axis` over which the statistic is taken will be eliminated, and the value None will no longer be accepted. Set `keepdims` to True or False to avoid this warning.\n",
      "  mode, _ = stats.mode(_y[neigh_ind, k], axis=1)\n"
     ]
    }
   ],
   "source": [
    "from  sklearn.neighbors import KNeighborsClassifier\n",
    "clf = KNeighborsClassifier(n_neighbors = 5, metric = 'euclidean')\n",
    "clf.fit(X_train, y_train)\n",
    "y_pred = clf.predict(X_test)\n",
    "print(classification_report(y_test, y_pred))"
   ]
  },
  {
   "cell_type": "markdown",
   "id": "7cc9cdf5",
   "metadata": {},
   "source": [
    "### Testing the KNN model"
   ]
  },
  {
   "cell_type": "code",
   "execution_count": 33,
   "id": "de52d3b4",
   "metadata": {},
   "outputs": [
    {
     "name": "stderr",
     "output_type": "stream",
     "text": [
      "C:\\ProgramData\\Anaconda3\\lib\\site-packages\\sklearn\\neighbors\\_classification.py:228: FutureWarning: Unlike other reduction functions (e.g. `skew`, `kurtosis`), the default behavior of `mode` typically preserves the axis it acts along. In SciPy 1.11.0, this behavior will change: the default value of `keepdims` will become False, the `axis` over which the statistic is taken will be eliminated, and the value None will no longer be accepted. Set `keepdims` to True or False to avoid this warning.\n",
      "  mode, _ = stats.mode(_y[neigh_ind, k], axis=1)\n"
     ]
    },
    {
     "data": {
      "text/plain": [
       "array([1, 1, 1, 1])"
      ]
     },
     "execution_count": 33,
     "metadata": {},
     "output_type": "execute_result"
    }
   ],
   "source": [
    "l1 = [\"You got cash prize of 1000$, pls use the cash coupon code\",\n",
    "        'Niteesh pls come to ground, we can play cricket',\n",
    "        \"Hurry up! you got an offer of upto 20% discount for order delivery, exclusive offer just for you!!!, Don't miss the reward\",\n",
    "        'pls get me some food',\n",
    "        'Send me the code',\n",
    "        \"Free Prizes, Gift Cards or Coupons Free prizes are quite uncommon. If you get a text about free gifts, think twice before taking action! ..\"\n",
    "        \"ACTION REQUIRED. Please verify your Bank of America account information to avoid a hold on your account. Click here to verify: https://bit.ly/97qW5R8\",\n",
    "        \"You’ve been overcharged for your 2021 taxes. Get your IRS tax refund here: https://bit.lyPt808gF23\",\n",
    "        \"Get delivery updates on your USPS order NQ-836491 here: https://bit.ly/Po9808Lq\",\n",
    "        \"Congratulations! You’re being offered a no-interest Visa credit card. Click here to claim: https://bit.ly/07tjA786\",\n",
    "        \"There’s an issue with your payment information from your recent order YQ-885629. Take action now: https://bit.ly/Hp187Ty19\",\n",
    "        \"Wells Fargo: We have detected suspicious activity on your account. Log in at http://bit.ly/9Uy6Qw89 to update your account preferences and protect your information.\"]\n",
    "\n",
    "a = []\n",
    "for i in l1:\n",
    "    a.append(nlp(i).vector)\n",
    "clf.predict(a)"
   ]
  }
 ],
 "metadata": {
  "kernelspec": {
   "display_name": "Python 3",
   "language": "python",
   "name": "python3"
  },
  "language_info": {
   "codemirror_mode": {
    "name": "ipython",
    "version": 3
   },
   "file_extension": ".py",
   "mimetype": "text/x-python",
   "name": "python",
   "nbconvert_exporter": "python",
   "pygments_lexer": "ipython3",
   "version": "3.8.8"
  }
 },
 "nbformat": 4,
 "nbformat_minor": 5
}
